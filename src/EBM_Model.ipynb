{
 "cells": [
  {
   "cell_type": "code",
   "execution_count": 6,
   "metadata": {},
   "outputs": [],
   "source": [
    "import os\n",
    "import pandas as pd\n",
    "import matplotlib.pyplot as plt\n",
    "\n",
    "import json\n",
    "\n",
    "import kagglehub\n",
    "\n",
    "\n",
    "from sklearn.model_selection import train_test_split, GridSearchCV\n",
    "from sklearn.metrics import classification_report, roc_auc_score\n",
    "from sklearn.model_selection import ParameterGrid\n",
    "\n",
    "from interpret.glassbox import ExplainableBoostingClassifier\n",
    "from interpret import show\n",
    "\n",
    "import optuna\n",
    "from sklearn.model_selection import cross_val_score\n",
    "from sklearn.metrics import recall_score"
   ]
  },
  {
   "cell_type": "code",
   "execution_count": null,
   "metadata": {},
   "outputs": [
    {
     "name": "stdout",
     "output_type": "stream",
     "text": [
      "Content of ['alzheimers_disease_data.csv']\n"
     ]
    }
   ],
   "source": [
    "# Download latest version\n",
    "path = kagglehub.dataset_download(\"rabieelkharoua/alzheimers-disease-dataset\")\n",
    "files = os.listdir(path)\n",
    "print(\"Content of\", files)\n",
    "\n",
    "csv_file = files[0]\n",
    "csv_path = os.path.join(path, csv_file)\n",
    "\n",
    "# Load DataFrame\n",
    "df = pd.read_csv(csv_path)"
   ]
  },
  {
   "cell_type": "code",
   "execution_count": 8,
   "metadata": {},
   "outputs": [],
   "source": [
    "# Preprocessing\n",
    "\n",
    "# Remove unnecessary columns\n",
    "df = df.drop(columns=[\"PatientID\", \"DoctorInCharge\"], errors=\"ignore\")\n",
    "\n",
    "# Splitting the data into features (X) and the target variable (Y)\n",
    "X = df.drop(columns=[\"Diagnosis\"])\n",
    "Y = df[\"Diagnosis\"]\n",
    "\n",
    "\n",
    "# Label encoding\n",
    "def change_labels(X):\n",
    "    custom_labels = {\n",
    "        \"Gender\": [\"Male\", \"Female\"],\n",
    "        \"Ethnicity\": [\"Caucasian\", \"African American\", \"Asian\", \"Other\"],\n",
    "        \"EducationLevel\": [\"None\", \"High School\", \"Bachelor's\", \"Higher\"],\n",
    "        \"Smoking\": [\"No\", \"Yes\"],\n",
    "        \"FamilyHistoryAlzheimers\": [\"No\", \"Yes\"],\n",
    "        \"CardiovascularDisease\": [\"No\", \"Yes\"],\n",
    "        \"Diabetes\": [\"No\", \"Yes\"],\n",
    "        \"Depression\": [\"No\", \"Yes\"],\n",
    "        \"HeadInjury\": [\"No\", \"Yes\"],\n",
    "        \"Hypertension\": [\"No\", \"Yes\"],\n",
    "        \"MemoryComplaints\": [\"No\", \"Yes\"],\n",
    "        \"BehavioralProblems\": [\"No\", \"Yes\"],\n",
    "        \"Confusion\": [\"No\", \"Yes\"],\n",
    "        \"Disorientation\": [\"No\", \"Yes\"],\n",
    "        \"PersonalityChanges\": [\"No\", \"Yes\"],\n",
    "        \"DifficultyCompletingTasks\": [\"No\", \"Yes\"],\n",
    "        \"Forgetfulness\": [\"No\", \"Yes\"],\n",
    "    }\n",
    "\n",
    "    for column, labels in custom_labels.items():\n",
    "        if column in X.columns:\n",
    "            # Create a mapping dictionary from numeric values to custom labels\n",
    "            label_mapping = {i: label for i, label in enumerate(labels)}\n",
    "            # Replace values in the column using the mapping\n",
    "            X[column] = X[column].replace(label_mapping)\n",
    "    return X\n",
    "\n",
    "\n",
    "# Assigning custom labels\n",
    "X = change_labels(X)\n",
    "\n",
    "# Splitting the dataset into training and test sets\n",
    "X_train, X_test, Y_train, Y_test = train_test_split(\n",
    "    X, Y, test_size=0.2, random_state=42, stratify=Y\n",
    ")"
   ]
  },
  {
   "cell_type": "code",
   "execution_count": 9,
   "metadata": {},
   "outputs": [
    {
     "name": "stderr",
     "output_type": "stream",
     "text": [
      "[I 2025-01-28 10:29:12,759] A new study created in memory with name: no-name-a0c906fa-52b2-4cae-b632-019531be7cd2\n",
      "[I 2025-01-28 10:29:26,107] Trial 0 finished with value: 0.8881578947368421 and parameters: {'max_bins': 256, 'max_interaction_bins': 128, 'interactions': 50, 'learning_rate': 0.749577512667121, 'min_samples_leaf': 10, 'max_leaves': 3}. Best is trial 0 with value: 0.8881578947368421.\n",
      "[I 2025-01-28 10:29:37,692] Trial 1 finished with value: 0.9210526315789473 and parameters: {'max_bins': 512, 'max_interaction_bins': 128, 'interactions': 10, 'learning_rate': 0.026971177558532598, 'min_samples_leaf': 20, 'max_leaves': 5}. Best is trial 1 with value: 0.9210526315789473.\n",
      "[I 2025-01-28 10:29:41,401] Trial 2 finished with value: 0.881578947368421 and parameters: {'max_bins': 256, 'max_interaction_bins': 128, 'interactions': 50, 'learning_rate': 0.6260932989680296, 'min_samples_leaf': 10, 'max_leaves': 10}. Best is trial 1 with value: 0.9210526315789473.\n",
      "[I 2025-01-28 10:29:44,387] Trial 3 finished with value: 0.9078947368421053 and parameters: {'max_bins': 256, 'max_interaction_bins': 64, 'interactions': 10, 'learning_rate': 0.05938315009744685, 'min_samples_leaf': 10, 'max_leaves': 10}. Best is trial 1 with value: 0.9210526315789473.\n",
      "[I 2025-01-28 10:29:55,895] Trial 4 finished with value: 0.9144736842105263 and parameters: {'max_bins': 512, 'max_interaction_bins': 64, 'interactions': 50, 'learning_rate': 0.062153097507996316, 'min_samples_leaf': 2, 'max_leaves': 3}. Best is trial 1 with value: 0.9210526315789473.\n",
      "[I 2025-01-28 10:31:28,500] Trial 5 finished with value: 0.868421052631579 and parameters: {'max_bins': 128, 'max_interaction_bins': 32, 'interactions': 50, 'learning_rate': 0.307714030865938, 'min_samples_leaf': 10, 'max_leaves': 10}. Best is trial 1 with value: 0.9210526315789473.\n",
      "[I 2025-01-28 10:31:30,589] Trial 6 finished with value: 0.881578947368421 and parameters: {'max_bins': 512, 'max_interaction_bins': 64, 'interactions': 10, 'learning_rate': 0.5186099389972095, 'min_samples_leaf': 20, 'max_leaves': 10}. Best is trial 1 with value: 0.9210526315789473.\n",
      "[I 2025-01-28 10:31:32,358] Trial 7 finished with value: 0.881578947368421 and parameters: {'max_bins': 256, 'max_interaction_bins': 32, 'interactions': 10, 'learning_rate': 0.1522865699873749, 'min_samples_leaf': 10, 'max_leaves': 10}. Best is trial 1 with value: 0.9210526315789473.\n",
      "[I 2025-01-28 10:31:34,595] Trial 8 finished with value: 0.8618421052631579 and parameters: {'max_bins': 512, 'max_interaction_bins': 32, 'interactions': 50, 'learning_rate': 0.18586569776529732, 'min_samples_leaf': 10, 'max_leaves': 10}. Best is trial 1 with value: 0.9210526315789473.\n",
      "[I 2025-01-28 10:31:35,671] Trial 9 finished with value: 0.875 and parameters: {'max_bins': 512, 'max_interaction_bins': 128, 'interactions': 0, 'learning_rate': 0.10264361495654474, 'min_samples_leaf': 20, 'max_leaves': 10}. Best is trial 1 with value: 0.9210526315789473.\n",
      "[I 2025-01-28 10:31:36,875] Trial 10 finished with value: 0.9144736842105263 and parameters: {'max_bins': 128, 'max_interaction_bins': 128, 'interactions': 0, 'learning_rate': 0.012796323104051353, 'min_samples_leaf': 20, 'max_leaves': 5}. Best is trial 1 with value: 0.9210526315789473.\n",
      "[I 2025-01-28 10:31:40,668] Trial 11 finished with value: 0.9210526315789473 and parameters: {'max_bins': 512, 'max_interaction_bins': 64, 'interactions': 10, 'learning_rate': 0.035574682527520045, 'min_samples_leaf': 2, 'max_leaves': 5}. Best is trial 1 with value: 0.9210526315789473.\n",
      "[I 2025-01-28 10:31:45,493] Trial 12 finished with value: 0.9276315789473685 and parameters: {'max_bins': 512, 'max_interaction_bins': 64, 'interactions': 10, 'learning_rate': 0.02037139302656449, 'min_samples_leaf': 2, 'max_leaves': 5}. Best is trial 12 with value: 0.9276315789473685.\n",
      "[I 2025-01-28 10:32:05,553] Trial 13 finished with value: 0.9276315789473685 and parameters: {'max_bins': 512, 'max_interaction_bins': 128, 'interactions': 10, 'learning_rate': 0.013076597974534535, 'min_samples_leaf': 2, 'max_leaves': 5}. Best is trial 12 with value: 0.9276315789473685.\n",
      "[I 2025-01-28 10:32:11,788] Trial 14 finished with value: 0.9210526315789473 and parameters: {'max_bins': 512, 'max_interaction_bins': 64, 'interactions': 10, 'learning_rate': 0.01191716276069806, 'min_samples_leaf': 2, 'max_leaves': 5}. Best is trial 12 with value: 0.9276315789473685.\n",
      "[I 2025-01-28 10:32:32,679] Trial 15 finished with value: 0.9210526315789473 and parameters: {'max_bins': 512, 'max_interaction_bins': 128, 'interactions': 10, 'learning_rate': 0.021980989894552973, 'min_samples_leaf': 2, 'max_leaves': 5}. Best is trial 12 with value: 0.9276315789473685.\n",
      "[I 2025-01-28 10:32:38,249] Trial 16 finished with value: 0.9078947368421053 and parameters: {'max_bins': 128, 'max_interaction_bins': 64, 'interactions': 10, 'learning_rate': 0.016698083833235903, 'min_samples_leaf': 2, 'max_leaves': 5}. Best is trial 12 with value: 0.9276315789473685.\n",
      "[I 2025-01-28 10:32:39,531] Trial 17 finished with value: 0.9078947368421053 and parameters: {'max_bins': 512, 'max_interaction_bins': 128, 'interactions': 0, 'learning_rate': 0.03999317535130699, 'min_samples_leaf': 2, 'max_leaves': 5}. Best is trial 12 with value: 0.9276315789473685.\n",
      "[I 2025-01-28 10:32:44,116] Trial 18 finished with value: 0.9276315789473685 and parameters: {'max_bins': 512, 'max_interaction_bins': 64, 'interactions': 10, 'learning_rate': 0.020634793740105316, 'min_samples_leaf': 2, 'max_leaves': 5}. Best is trial 12 with value: 0.9276315789473685.\n",
      "[I 2025-01-28 10:32:47,239] Trial 19 finished with value: 0.9210526315789473 and parameters: {'max_bins': 128, 'max_interaction_bins': 32, 'interactions': 10, 'learning_rate': 0.010153672262446393, 'min_samples_leaf': 2, 'max_leaves': 3}. Best is trial 12 with value: 0.9276315789473685.\n",
      "[I 2025-01-28 10:32:48,533] Trial 20 finished with value: 0.9013157894736842 and parameters: {'max_bins': 512, 'max_interaction_bins': 128, 'interactions': 0, 'learning_rate': 0.05857374744408022, 'min_samples_leaf': 2, 'max_leaves': 5}. Best is trial 12 with value: 0.9276315789473685.\n",
      "[I 2025-01-28 10:32:53,706] Trial 21 finished with value: 0.9276315789473685 and parameters: {'max_bins': 512, 'max_interaction_bins': 64, 'interactions': 10, 'learning_rate': 0.020000849358154337, 'min_samples_leaf': 2, 'max_leaves': 5}. Best is trial 12 with value: 0.9276315789473685.\n",
      "[I 2025-01-28 10:32:58,279] Trial 22 finished with value: 0.9210526315789473 and parameters: {'max_bins': 512, 'max_interaction_bins': 64, 'interactions': 10, 'learning_rate': 0.03552057660376264, 'min_samples_leaf': 2, 'max_leaves': 5}. Best is trial 12 with value: 0.9276315789473685.\n",
      "[I 2025-01-28 10:33:03,494] Trial 23 finished with value: 0.9276315789473685 and parameters: {'max_bins': 512, 'max_interaction_bins': 64, 'interactions': 10, 'learning_rate': 0.020737969080756827, 'min_samples_leaf': 2, 'max_leaves': 5}. Best is trial 12 with value: 0.9276315789473685.\n",
      "[I 2025-01-28 10:33:09,572] Trial 24 finished with value: 0.9210526315789473 and parameters: {'max_bins': 512, 'max_interaction_bins': 64, 'interactions': 10, 'learning_rate': 0.012707412552182969, 'min_samples_leaf': 2, 'max_leaves': 5}. Best is trial 12 with value: 0.9276315789473685.\n",
      "[I 2025-01-28 10:33:13,682] Trial 25 finished with value: 0.9210526315789473 and parameters: {'max_bins': 512, 'max_interaction_bins': 64, 'interactions': 10, 'learning_rate': 0.029955021705350728, 'min_samples_leaf': 2, 'max_leaves': 5}. Best is trial 12 with value: 0.9276315789473685.\n",
      "[I 2025-01-28 10:33:18,918] Trial 26 finished with value: 0.9276315789473685 and parameters: {'max_bins': 512, 'max_interaction_bins': 64, 'interactions': 10, 'learning_rate': 0.014229747320413867, 'min_samples_leaf': 2, 'max_leaves': 3}. Best is trial 12 with value: 0.9276315789473685.\n",
      "[I 2025-01-28 10:33:22,881] Trial 27 finished with value: 0.9144736842105263 and parameters: {'max_bins': 512, 'max_interaction_bins': 64, 'interactions': 10, 'learning_rate': 0.05289641072219908, 'min_samples_leaf': 2, 'max_leaves': 5}. Best is trial 12 with value: 0.9276315789473685.\n",
      "[I 2025-01-28 10:33:23,937] Trial 28 finished with value: 0.9013157894736842 and parameters: {'max_bins': 128, 'max_interaction_bins': 32, 'interactions': 0, 'learning_rate': 0.0882753418274919, 'min_samples_leaf': 2, 'max_leaves': 5}. Best is trial 12 with value: 0.9276315789473685.\n",
      "[I 2025-01-28 10:33:40,107] Trial 29 finished with value: 0.9276315789473685 and parameters: {'max_bins': 256, 'max_interaction_bins': 128, 'interactions': 10, 'learning_rate': 0.025515366316113383, 'min_samples_leaf': 20, 'max_leaves': 3}. Best is trial 12 with value: 0.9276315789473685.\n",
      "[I 2025-01-28 10:34:27,388] Trial 30 finished with value: 0.9144736842105263 and parameters: {'max_bins': 256, 'max_interaction_bins': 128, 'interactions': 50, 'learning_rate': 0.01841806832834001, 'min_samples_leaf': 2, 'max_leaves': 5}. Best is trial 12 with value: 0.9276315789473685.\n",
      "[I 2025-01-28 10:34:32,710] Trial 31 finished with value: 0.9276315789473685 and parameters: {'max_bins': 512, 'max_interaction_bins': 64, 'interactions': 10, 'learning_rate': 0.017022837562776297, 'min_samples_leaf': 2, 'max_leaves': 5}. Best is trial 12 with value: 0.9276315789473685.\n",
      "[I 2025-01-28 10:34:37,142] Trial 32 finished with value: 0.9210526315789473 and parameters: {'max_bins': 512, 'max_interaction_bins': 64, 'interactions': 10, 'learning_rate': 0.0258027847027592, 'min_samples_leaf': 2, 'max_leaves': 5}. Best is trial 12 with value: 0.9276315789473685.\n",
      "[I 2025-01-28 10:34:44,520] Trial 33 finished with value: 0.9210526315789473 and parameters: {'max_bins': 512, 'max_interaction_bins': 64, 'interactions': 10, 'learning_rate': 0.010052000848809141, 'min_samples_leaf': 2, 'max_leaves': 5}. Best is trial 12 with value: 0.9276315789473685.\n",
      "[I 2025-01-28 10:34:48,679] Trial 34 finished with value: 0.9144736842105263 and parameters: {'max_bins': 512, 'max_interaction_bins': 64, 'interactions': 10, 'learning_rate': 0.043196195554067944, 'min_samples_leaf': 2, 'max_leaves': 5}. Best is trial 12 with value: 0.9276315789473685.\n",
      "[I 2025-01-28 10:35:09,176] Trial 35 finished with value: 0.9276315789473685 and parameters: {'max_bins': 512, 'max_interaction_bins': 128, 'interactions': 10, 'learning_rate': 0.015806557640752224, 'min_samples_leaf': 2, 'max_leaves': 5}. Best is trial 12 with value: 0.9276315789473685.\n",
      "[I 2025-01-28 10:35:22,442] Trial 36 finished with value: 0.9276315789473685 and parameters: {'max_bins': 256, 'max_interaction_bins': 64, 'interactions': 50, 'learning_rate': 0.03007845251744314, 'min_samples_leaf': 10, 'max_leaves': 3}. Best is trial 12 with value: 0.9276315789473685.\n",
      "[I 2025-01-28 10:35:24,521] Trial 37 finished with value: 0.8947368421052632 and parameters: {'max_bins': 512, 'max_interaction_bins': 64, 'interactions': 10, 'learning_rate': 0.8965736374948368, 'min_samples_leaf': 20, 'max_leaves': 5}. Best is trial 12 with value: 0.9276315789473685.\n",
      "[I 2025-01-28 10:35:29,580] Trial 38 finished with value: 0.9210526315789473 and parameters: {'max_bins': 512, 'max_interaction_bins': 64, 'interactions': 10, 'learning_rate': 0.022328225192894097, 'min_samples_leaf': 10, 'max_leaves': 5}. Best is trial 12 with value: 0.9276315789473685.\n",
      "[I 2025-01-28 10:35:34,008] Trial 39 finished with value: 0.9078947368421053 and parameters: {'max_bins': 512, 'max_interaction_bins': 32, 'interactions': 50, 'learning_rate': 0.09394053549639134, 'min_samples_leaf': 2, 'max_leaves': 5}. Best is trial 12 with value: 0.9276315789473685.\n",
      "[I 2025-01-28 10:35:44,611] Trial 40 finished with value: 0.8947368421052632 and parameters: {'max_bins': 256, 'max_interaction_bins': 128, 'interactions': 10, 'learning_rate': 0.2461677846440511, 'min_samples_leaf': 2, 'max_leaves': 3}. Best is trial 12 with value: 0.9276315789473685.\n",
      "[I 2025-01-28 10:35:49,326] Trial 41 finished with value: 0.9276315789473685 and parameters: {'max_bins': 512, 'max_interaction_bins': 64, 'interactions': 10, 'learning_rate': 0.021507218461065732, 'min_samples_leaf': 2, 'max_leaves': 5}. Best is trial 12 with value: 0.9276315789473685.\n",
      "[I 2025-01-28 10:35:54,547] Trial 42 finished with value: 0.9276315789473685 and parameters: {'max_bins': 512, 'max_interaction_bins': 64, 'interactions': 10, 'learning_rate': 0.019743952635465984, 'min_samples_leaf': 2, 'max_leaves': 5}. Best is trial 12 with value: 0.9276315789473685.\n",
      "[I 2025-01-28 10:35:58,581] Trial 43 finished with value: 0.875 and parameters: {'max_bins': 512, 'max_interaction_bins': 64, 'interactions': 10, 'learning_rate': 0.41933589186264253, 'min_samples_leaf': 2, 'max_leaves': 10}. Best is trial 12 with value: 0.9276315789473685.\n",
      "[I 2025-01-28 10:36:07,213] Trial 44 finished with value: 0.9210526315789473 and parameters: {'max_bins': 512, 'max_interaction_bins': 64, 'interactions': 10, 'learning_rate': 0.014264263497065227, 'min_samples_leaf': 10, 'max_leaves': 5}. Best is trial 12 with value: 0.9276315789473685.\n",
      "[I 2025-01-28 10:36:10,566] Trial 45 finished with value: 0.9013157894736842 and parameters: {'max_bins': 512, 'max_interaction_bins': 64, 'interactions': 10, 'learning_rate': 0.0504540702890782, 'min_samples_leaf': 2, 'max_leaves': 10}. Best is trial 12 with value: 0.9276315789473685.\n",
      "[I 2025-01-28 10:36:14,607] Trial 46 finished with value: 0.9144736842105263 and parameters: {'max_bins': 128, 'max_interaction_bins': 64, 'interactions': 10, 'learning_rate': 0.03077761131894107, 'min_samples_leaf': 20, 'max_leaves': 5}. Best is trial 12 with value: 0.9276315789473685.\n",
      "[I 2025-01-28 10:36:15,775] Trial 47 finished with value: 0.9013157894736842 and parameters: {'max_bins': 512, 'max_interaction_bins': 128, 'interactions': 0, 'learning_rate': 0.06947484705050568, 'min_samples_leaf': 2, 'max_leaves': 5}. Best is trial 12 with value: 0.9276315789473685.\n",
      "[I 2025-01-28 10:36:22,006] Trial 48 finished with value: 0.9276315789473685 and parameters: {'max_bins': 512, 'max_interaction_bins': 32, 'interactions': 50, 'learning_rate': 0.012262212026089516, 'min_samples_leaf': 2, 'max_leaves': 5}. Best is trial 12 with value: 0.9276315789473685.\n",
      "[I 2025-01-28 10:36:25,520] Trial 49 finished with value: 0.875 and parameters: {'max_bins': 512, 'max_interaction_bins': 64, 'interactions': 10, 'learning_rate': 0.12262592217462735, 'min_samples_leaf': 10, 'max_leaves': 10}. Best is trial 12 with value: 0.9276315789473685.\n"
     ]
    },
    {
     "name": "stdout",
     "output_type": "stream",
     "text": [
      "Best hyperparameters: {'max_bins': 512, 'max_interaction_bins': 64, 'interactions': 10, 'learning_rate': 0.02037139302656449, 'min_samples_leaf': 2, 'max_leaves': 5}\n",
      "Best recall score: 0.9276315789473685\n"
     ]
    }
   ],
   "source": [
    "def objective(trial):\n",
    "    # Przestrzeń wyszukiwania hiperparametrów\n",
    "    max_bins = trial.suggest_categorical(\"max_bins\", [128, 256, 512])\n",
    "    max_interaction_bins = trial.suggest_categorical(\n",
    "        \"max_interaction_bins\", [32, 64, 128]\n",
    "    )\n",
    "    interactions = trial.suggest_categorical(\"interactions\", [0, 10, 50])\n",
    "    learning_rate = trial.suggest_float(\"learning_rate\", 0.01, 1, log=True)\n",
    "    min_samples_leaf = trial.suggest_categorical(\"min_samples_leaf\", [2, 10, 20])\n",
    "    max_leaves = trial.suggest_categorical(\"max_leaves\", [3, 5, 10])\n",
    "\n",
    "    # Model EBM z sugerowanymi hiperparametrami\n",
    "    ebm = ExplainableBoostingClassifier(\n",
    "        max_bins=max_bins,\n",
    "        max_interaction_bins=max_interaction_bins,\n",
    "        interactions=interactions,\n",
    "        learning_rate=learning_rate,\n",
    "        min_samples_leaf=min_samples_leaf,\n",
    "        max_leaves=max_leaves,\n",
    "        random_state=42,\n",
    "        n_jobs=-1,\n",
    "    )\n",
    "\n",
    "    # Dopasowanie modelu na zestawie treningowym\n",
    "    ebm.fit(X_train, Y_train)\n",
    "\n",
    "    # Przewidywania na zbiorze walidacyjnym\n",
    "    Y_pred = ebm.predict(X_test)\n",
    "\n",
    "    # Obliczanie wyniku recall\n",
    "    score = recall_score(Y_test, Y_pred, average=\"binary\")\n",
    "    return score\n",
    "\n",
    "\n",
    "# Optuna\n",
    "study = optuna.create_study(direction=\"maximize\")\n",
    "study.optimize(objective, n_trials=50)\n",
    "\n",
    "print(\"Best hyperparameters:\", study.best_params)\n",
    "print(\"Best recall score:\", study.best_value)"
   ]
  },
  {
   "cell_type": "code",
   "execution_count": 10,
   "metadata": {},
   "outputs": [
    {
     "name": "stdout",
     "output_type": "stream",
     "text": [
      "Model has been saved as models/trained/ebm_study.json.joblib\n"
     ]
    }
   ],
   "source": [
    "from functions.save_load_model import save_model, load_model\n",
    "\n",
    "# save_model(study, \"ebm_study.json\")"
   ]
  },
  {
   "cell_type": "code",
   "execution_count": 11,
   "metadata": {},
   "outputs": [],
   "source": [
    "load_ebm = load_model(\"ebm_study.json\")"
   ]
  },
  {
   "cell_type": "code",
   "execution_count": 12,
   "metadata": {},
   "outputs": [
    {
     "name": "stdout",
     "output_type": "stream",
     "text": [
      "EBM - Classification Report:\n",
      "              precision    recall  f1-score   support\n",
      "\n",
      "           0       0.96      0.95      0.95       278\n",
      "           1       0.90      0.93      0.92       152\n",
      "\n",
      "    accuracy                           0.94       430\n",
      "   macro avg       0.93      0.94      0.93       430\n",
      "weighted avg       0.94      0.94      0.94       430\n",
      "\n",
      "EBM - AUC ROC: 0.9452\n"
     ]
    }
   ],
   "source": [
    "# Fitting the Explainable Boosting Classifier model\n",
    "ebm_model = ExplainableBoostingClassifier(\n",
    "    random_state=42,\n",
    "    max_bins=512,\n",
    "    max_interaction_bins=128,\n",
    "    interactions=10,\n",
    "    learning_rate=0.010226651476661184,\n",
    "    min_samples_leaf=2,\n",
    "    max_leaves=3,\n",
    ")\n",
    "ebm_model.fit(X_train, Y_train)\n",
    "\n",
    "# Generating predictions and probabilities on the test set\n",
    "Y_pred = ebm_model.predict(X_test)\n",
    "Y_pred_proba = ebm_model.predict_proba(X_test)[:, 1]\n",
    "\n",
    "# Model evaluation\n",
    "print(\"EBM - Classification Report:\")\n",
    "print(classification_report(Y_test, Y_pred))\n",
    "print(f\"EBM - AUC ROC: {roc_auc_score(Y_test, Y_pred_proba):.4f}\")"
   ]
  },
  {
   "cell_type": "code",
   "execution_count": null,
   "metadata": {},
   "outputs": [],
   "source": [
    "ebm_local = ebm_model.explain_local(X_test[:10], Y_test[:10])\n",
    "show(ebm_local)"
   ]
  }
 ],
 "metadata": {
  "kernelspec": {
   "display_name": "Python (Poetry)",
   "language": "python",
   "name": "alzheimer-env"
  },
  "language_info": {
   "codemirror_mode": {
    "name": "ipython",
    "version": 3
   },
   "file_extension": ".py",
   "mimetype": "text/x-python",
   "name": "python",
   "nbconvert_exporter": "python",
   "pygments_lexer": "ipython3",
   "version": "3.13.1"
  }
 },
 "nbformat": 4,
 "nbformat_minor": 2
}
