{
 "cells": [
  {
   "cell_type": "code",
   "execution_count": 2,
   "metadata": {},
   "outputs": [
    {
     "name": "stderr",
     "output_type": "stream",
     "text": [
      "c:\\Users\\franc\\AppData\\Local\\Packages\\PythonSoftwareFoundation.Python.3.13_qbz5n2kfra8p0\\LocalCache\\Local\\pypoetry\\Cache\\virtualenvs\\alzheimer-s-disease-prediction-hEM1_UKe-py3.13\\Lib\\site-packages\\tqdm\\auto.py:21: TqdmWarning: IProgress not found. Please update jupyter and ipywidgets. See https://ipywidgets.readthedocs.io/en/stable/user_install.html\n",
      "  from .autonotebook import tqdm as notebook_tqdm\n"
     ]
    }
   ],
   "source": [
    "import os\n",
    "import pandas as pd\n",
    "import matplotlib.pyplot as plt\n",
    "\n",
    "import json\n",
    "\n",
    "import kagglehub\n",
    "\n",
    "\n",
    "from sklearn.model_selection import train_test_split, GridSearchCV\n",
    "from sklearn.metrics import classification_report, roc_auc_score\n",
    "from sklearn.model_selection import ParameterGrid\n",
    "\n",
    "from interpret.glassbox import ExplainableBoostingClassifier\n",
    "from interpret import show\n",
    "\n",
    "import optuna\n",
    "from sklearn.model_selection import cross_val_score\n",
    "from sklearn.metrics import recall_score"
   ]
  },
  {
   "cell_type": "code",
   "execution_count": 3,
   "metadata": {},
   "outputs": [
    {
     "name": "stdout",
     "output_type": "stream",
     "text": [
      "Content of ['alzheimers_disease_data.csv']\n"
     ]
    }
   ],
   "source": [
    "# Download latest version\n",
    "path = kagglehub.dataset_download(\"rabieelkharoua/alzheimers-disease-dataset\")\n",
    "files = os.listdir(path)\n",
    "print(\"Content of\", files)\n",
    "\n",
    "csv_file = files[0]\n",
    "csv_path = os.path.join(path, csv_file)\n",
    "\n",
    "# Load DataFrame\n",
    "df = pd.read_csv(csv_path) "
   ]
  },
  {
   "cell_type": "code",
   "execution_count": 4,
   "metadata": {},
   "outputs": [],
   "source": [
    "# Preprocessing\n",
    "\n",
    "# Remove unnecessary columns\n",
    "df = df.drop(columns=[\"PatientID\", \"DoctorInCharge\"], errors=\"ignore\")\n",
    "\n",
    "# Splitting the data into features (X) and the target variable (Y)\n",
    "X = df.drop(columns=[\"Diagnosis\"])\n",
    "Y = df[\"Diagnosis\"]\n",
    "\n",
    "# Label encoding\n",
    "def change_labels(X):\n",
    "    custom_labels = {\n",
    "        'Gender': ['Male', 'Female'],\n",
    "        'Ethnicity': ['Caucasian', 'African American', 'Asian', 'Other'],\n",
    "        'EducationLevel': ['None', 'High School', \"Bachelor's\", 'Higher'],\n",
    "        'Smoking': ['No', 'Yes'],\n",
    "        'FamilyHistoryAlzheimers': ['No', 'Yes'],\n",
    "        'CardiovascularDisease': ['No', 'Yes'],\n",
    "        'Diabetes': ['No', 'Yes'],\n",
    "        'Depression': ['No', 'Yes'],\n",
    "        'HeadInjury': ['No', 'Yes'],\n",
    "        'Hypertension': ['No', 'Yes'],\n",
    "        'MemoryComplaints': ['No', 'Yes'],\n",
    "        'BehavioralProblems': ['No', 'Yes'],\n",
    "        'Confusion': ['No', 'Yes'],\n",
    "        'Disorientation': ['No', 'Yes'],\n",
    "        'PersonalityChanges': ['No', 'Yes'],\n",
    "        'DifficultyCompletingTasks': ['No', 'Yes'],\n",
    "        'Forgetfulness': ['No', 'Yes']\n",
    "    }\n",
    "\n",
    "    for column, labels in custom_labels.items():\n",
    "        if column in X.columns:\n",
    "            # Create a mapping dictionary from numeric values to custom labels\n",
    "            label_mapping = {i: label for i, label in enumerate(labels)}\n",
    "            # Replace values in the column using the mapping\n",
    "            X[column] = X[column].replace(label_mapping)\n",
    "    return X\n",
    "\n",
    "# Assigning custom labels\n",
    "X = change_labels(X)\n",
    "\n",
    "# Splitting the dataset into training and test sets\n",
    "X_train, X_test, Y_train, Y_test = train_test_split(\n",
    "    X, Y, test_size=0.2, random_state=42, stratify=Y\n",
    ")"
   ]
  },
  {
   "cell_type": "code",
   "execution_count": 6,
   "metadata": {},
   "outputs": [
    {
     "name": "stderr",
     "output_type": "stream",
     "text": [
      "[I 2025-01-27 22:38:01,465] A new study created in memory with name: no-name-099fac8e-9760-495b-827e-f06201d9c771\n",
      "[I 2025-01-27 22:38:12,081] Trial 0 finished with value: 0.9078947368421053 and parameters: {'max_bins': 128, 'max_interaction_bins': 32, 'interactions': 0, 'learning_rate': 0.06338763840146938, 'min_samples_leaf': 2, 'max_leaves': 3}. Best is trial 0 with value: 0.9078947368421053.\n",
      "[I 2025-01-27 22:38:17,407] Trial 1 finished with value: 0.9144736842105263 and parameters: {'max_bins': 256, 'max_interaction_bins': 64, 'interactions': 10, 'learning_rate': 0.0532979276120533, 'min_samples_leaf': 2, 'max_leaves': 5}. Best is trial 1 with value: 0.9144736842105263.\n",
      "[I 2025-01-27 22:39:09,650] Trial 2 finished with value: 0.9144736842105263 and parameters: {'max_bins': 512, 'max_interaction_bins': 128, 'interactions': 50, 'learning_rate': 0.033378566186351585, 'min_samples_leaf': 20, 'max_leaves': 5}. Best is trial 1 with value: 0.9144736842105263.\n",
      "[I 2025-01-27 22:39:26,734] Trial 3 finished with value: 0.9078947368421053 and parameters: {'max_bins': 256, 'max_interaction_bins': 128, 'interactions': 10, 'learning_rate': 0.01684149795716286, 'min_samples_leaf': 2, 'max_leaves': 10}. Best is trial 1 with value: 0.9144736842105263.\n",
      "[I 2025-01-27 22:39:27,816] Trial 4 finished with value: 0.881578947368421 and parameters: {'max_bins': 256, 'max_interaction_bins': 64, 'interactions': 0, 'learning_rate': 0.05391750078558679, 'min_samples_leaf': 10, 'max_leaves': 10}. Best is trial 1 with value: 0.9144736842105263.\n",
      "[I 2025-01-27 22:39:29,737] Trial 5 finished with value: 0.9013157894736842 and parameters: {'max_bins': 256, 'max_interaction_bins': 32, 'interactions': 10, 'learning_rate': 0.12241217926001997, 'min_samples_leaf': 10, 'max_leaves': 5}. Best is trial 1 with value: 0.9144736842105263.\n",
      "[I 2025-01-27 22:40:26,356] Trial 6 finished with value: 0.881578947368421 and parameters: {'max_bins': 128, 'max_interaction_bins': 128, 'interactions': 50, 'learning_rate': 0.014998364137126179, 'min_samples_leaf': 20, 'max_leaves': 10}. Best is trial 1 with value: 0.9144736842105263.\n",
      "[I 2025-01-27 22:40:27,503] Trial 7 finished with value: 0.9013157894736842 and parameters: {'max_bins': 512, 'max_interaction_bins': 32, 'interactions': 0, 'learning_rate': 0.05693585153993027, 'min_samples_leaf': 10, 'max_leaves': 5}. Best is trial 1 with value: 0.9144736842105263.\n",
      "[I 2025-01-27 22:40:28,486] Trial 8 finished with value: 0.9078947368421053 and parameters: {'max_bins': 128, 'max_interaction_bins': 64, 'interactions': 0, 'learning_rate': 0.060595345833416685, 'min_samples_leaf': 2, 'max_leaves': 5}. Best is trial 1 with value: 0.9144736842105263.\n",
      "[I 2025-01-27 22:40:29,953] Trial 9 finished with value: 0.8881578947368421 and parameters: {'max_bins': 512, 'max_interaction_bins': 64, 'interactions': 0, 'learning_rate': 0.750112219559148, 'min_samples_leaf': 10, 'max_leaves': 3}. Best is trial 1 with value: 0.9144736842105263.\n",
      "[I 2025-01-27 22:40:34,385] Trial 10 finished with value: 0.8881578947368421 and parameters: {'max_bins': 256, 'max_interaction_bins': 64, 'interactions': 10, 'learning_rate': 0.2195513860689853, 'min_samples_leaf': 2, 'max_leaves': 5}. Best is trial 1 with value: 0.9144736842105263.\n",
      "[I 2025-01-27 22:41:29,822] Trial 11 finished with value: 0.9144736842105263 and parameters: {'max_bins': 512, 'max_interaction_bins': 128, 'interactions': 50, 'learning_rate': 0.02912189007713062, 'min_samples_leaf': 20, 'max_leaves': 5}. Best is trial 1 with value: 0.9144736842105263.\n",
      "[I 2025-01-27 22:41:49,011] Trial 12 finished with value: 0.9013157894736842 and parameters: {'max_bins': 512, 'max_interaction_bins': 128, 'interactions': 50, 'learning_rate': 0.21265187341916023, 'min_samples_leaf': 20, 'max_leaves': 5}. Best is trial 1 with value: 0.9144736842105263.\n",
      "[I 2025-01-27 22:42:04,187] Trial 13 finished with value: 0.9144736842105263 and parameters: {'max_bins': 256, 'max_interaction_bins': 64, 'interactions': 50, 'learning_rate': 0.028845160907440232, 'min_samples_leaf': 20, 'max_leaves': 5}. Best is trial 1 with value: 0.9144736842105263.\n",
      "[I 2025-01-27 22:42:23,825] Trial 14 finished with value: 0.9210526315789473 and parameters: {'max_bins': 512, 'max_interaction_bins': 128, 'interactions': 10, 'learning_rate': 0.0231557437435612, 'min_samples_leaf': 20, 'max_leaves': 5}. Best is trial 14 with value: 0.9210526315789473.\n",
      "[I 2025-01-27 22:42:54,723] Trial 15 finished with value: 0.9276315789473685 and parameters: {'max_bins': 512, 'max_interaction_bins': 128, 'interactions': 10, 'learning_rate': 0.010226651476661184, 'min_samples_leaf': 2, 'max_leaves': 3}. Best is trial 15 with value: 0.9276315789473685.\n",
      "[I 2025-01-27 22:43:25,867] Trial 16 finished with value: 0.9276315789473685 and parameters: {'max_bins': 512, 'max_interaction_bins': 128, 'interactions': 10, 'learning_rate': 0.010477212529065683, 'min_samples_leaf': 2, 'max_leaves': 3}. Best is trial 15 with value: 0.9276315789473685.\n",
      "[I 2025-01-27 22:43:53,589] Trial 17 finished with value: 0.9276315789473685 and parameters: {'max_bins': 512, 'max_interaction_bins': 128, 'interactions': 10, 'learning_rate': 0.010675166826758058, 'min_samples_leaf': 2, 'max_leaves': 3}. Best is trial 15 with value: 0.9276315789473685.\n",
      "[I 2025-01-27 22:44:20,697] Trial 18 finished with value: 0.9276315789473685 and parameters: {'max_bins': 512, 'max_interaction_bins': 128, 'interactions': 10, 'learning_rate': 0.010053684833565493, 'min_samples_leaf': 2, 'max_leaves': 3}. Best is trial 15 with value: 0.9276315789473685.\n",
      "[I 2025-01-27 22:44:26,174] Trial 19 finished with value: 0.8881578947368421 and parameters: {'max_bins': 512, 'max_interaction_bins': 128, 'interactions': 10, 'learning_rate': 0.9601439895991704, 'min_samples_leaf': 2, 'max_leaves': 3}. Best is trial 15 with value: 0.9276315789473685.\n",
      "[I 2025-01-27 22:44:52,419] Trial 20 finished with value: 0.9276315789473685 and parameters: {'max_bins': 512, 'max_interaction_bins': 128, 'interactions': 10, 'learning_rate': 0.016737339872740613, 'min_samples_leaf': 2, 'max_leaves': 3}. Best is trial 15 with value: 0.9276315789473685.\n",
      "[I 2025-01-27 22:45:22,329] Trial 21 finished with value: 0.9276315789473685 and parameters: {'max_bins': 512, 'max_interaction_bins': 128, 'interactions': 10, 'learning_rate': 0.01035430465400472, 'min_samples_leaf': 2, 'max_leaves': 3}. Best is trial 15 with value: 0.9276315789473685.\n",
      "[I 2025-01-27 22:45:52,254] Trial 22 finished with value: 0.9276315789473685 and parameters: {'max_bins': 512, 'max_interaction_bins': 128, 'interactions': 10, 'learning_rate': 0.010153541977975074, 'min_samples_leaf': 2, 'max_leaves': 3}. Best is trial 15 with value: 0.9276315789473685.\n",
      "[I 2025-01-27 22:46:17,786] Trial 23 finished with value: 0.9276315789473685 and parameters: {'max_bins': 512, 'max_interaction_bins': 128, 'interactions': 10, 'learning_rate': 0.017083838816759327, 'min_samples_leaf': 2, 'max_leaves': 3}. Best is trial 15 with value: 0.9276315789473685.\n",
      "[I 2025-01-27 22:46:44,412] Trial 24 finished with value: 0.9276315789473685 and parameters: {'max_bins': 512, 'max_interaction_bins': 128, 'interactions': 10, 'learning_rate': 0.013754974069532204, 'min_samples_leaf': 2, 'max_leaves': 3}. Best is trial 15 with value: 0.9276315789473685.\n",
      "[I 2025-01-27 22:46:46,653] Trial 25 finished with value: 0.9078947368421053 and parameters: {'max_bins': 128, 'max_interaction_bins': 32, 'interactions': 10, 'learning_rate': 0.02313898137776107, 'min_samples_leaf': 2, 'max_leaves': 3}. Best is trial 15 with value: 0.9276315789473685.\n",
      "[I 2025-01-27 22:46:57,392] Trial 26 finished with value: 0.881578947368421 and parameters: {'max_bins': 512, 'max_interaction_bins': 128, 'interactions': 10, 'learning_rate': 0.48317146727022225, 'min_samples_leaf': 2, 'max_leaves': 3}. Best is trial 15 with value: 0.9276315789473685.\n",
      "[I 2025-01-27 22:47:14,376] Trial 27 finished with value: 0.9276315789473685 and parameters: {'max_bins': 512, 'max_interaction_bins': 128, 'interactions': 10, 'learning_rate': 0.039767820442254874, 'min_samples_leaf': 2, 'max_leaves': 3}. Best is trial 15 with value: 0.9276315789473685.\n",
      "[I 2025-01-27 22:47:29,167] Trial 28 finished with value: 0.9013157894736842 and parameters: {'max_bins': 512, 'max_interaction_bins': 128, 'interactions': 10, 'learning_rate': 0.10564876324116898, 'min_samples_leaf': 2, 'max_leaves': 3}. Best is trial 15 with value: 0.9276315789473685.\n",
      "[I 2025-01-27 22:47:31,556] Trial 29 finished with value: 0.9078947368421053 and parameters: {'max_bins': 128, 'max_interaction_bins': 32, 'interactions': 10, 'learning_rate': 0.022329911091172557, 'min_samples_leaf': 2, 'max_leaves': 3}. Best is trial 15 with value: 0.9276315789473685.\n",
      "[I 2025-01-27 22:47:33,006] Trial 30 finished with value: 0.9078947368421053 and parameters: {'max_bins': 512, 'max_interaction_bins': 128, 'interactions': 0, 'learning_rate': 0.013242168538017083, 'min_samples_leaf': 10, 'max_leaves': 10}. Best is trial 15 with value: 0.9276315789473685.\n",
      "[I 2025-01-27 22:48:00,930] Trial 31 finished with value: 0.9276315789473685 and parameters: {'max_bins': 512, 'max_interaction_bins': 128, 'interactions': 10, 'learning_rate': 0.0103827498954633, 'min_samples_leaf': 2, 'max_leaves': 3}. Best is trial 15 with value: 0.9276315789473685.\n",
      "[I 2025-01-27 22:48:27,488] Trial 32 finished with value: 0.9276315789473685 and parameters: {'max_bins': 512, 'max_interaction_bins': 128, 'interactions': 10, 'learning_rate': 0.013052220354247484, 'min_samples_leaf': 2, 'max_leaves': 3}. Best is trial 15 with value: 0.9276315789473685.\n",
      "[I 2025-01-27 22:48:49,306] Trial 33 finished with value: 0.9276315789473685 and parameters: {'max_bins': 512, 'max_interaction_bins': 128, 'interactions': 10, 'learning_rate': 0.01961582170177026, 'min_samples_leaf': 2, 'max_leaves': 3}. Best is trial 15 with value: 0.9276315789473685.\n",
      "[I 2025-01-27 22:49:03,645] Trial 34 finished with value: 0.9210526315789473 and parameters: {'max_bins': 512, 'max_interaction_bins': 128, 'interactions': 10, 'learning_rate': 0.03936039043736287, 'min_samples_leaf': 2, 'max_leaves': 3}. Best is trial 15 with value: 0.9276315789473685.\n",
      "[I 2025-01-27 22:49:34,321] Trial 35 finished with value: 0.9276315789473685 and parameters: {'max_bins': 512, 'max_interaction_bins': 128, 'interactions': 10, 'learning_rate': 0.010221828574648985, 'min_samples_leaf': 2, 'max_leaves': 3}. Best is trial 15 with value: 0.9276315789473685.\n",
      "[I 2025-01-27 22:49:36,757] Trial 36 finished with value: 0.9078947368421053 and parameters: {'max_bins': 128, 'max_interaction_bins': 32, 'interactions': 10, 'learning_rate': 0.013734435109911337, 'min_samples_leaf': 2, 'max_leaves': 10}. Best is trial 15 with value: 0.9276315789473685.\n",
      "[I 2025-01-27 22:50:37,157] Trial 37 finished with value: 0.9276315789473685 and parameters: {'max_bins': 256, 'max_interaction_bins': 128, 'interactions': 50, 'learning_rate': 0.019761388965347675, 'min_samples_leaf': 2, 'max_leaves': 3}. Best is trial 15 with value: 0.9276315789473685.\n",
      "[I 2025-01-27 22:50:52,767] Trial 38 finished with value: 0.9276315789473685 and parameters: {'max_bins': 512, 'max_interaction_bins': 128, 'interactions': 10, 'learning_rate': 0.035485796842274764, 'min_samples_leaf': 2, 'max_leaves': 3}. Best is trial 15 with value: 0.9276315789473685.\n",
      "[I 2025-01-27 22:50:54,223] Trial 39 finished with value: 0.9144736842105263 and parameters: {'max_bins': 512, 'max_interaction_bins': 32, 'interactions': 0, 'learning_rate': 0.01224578090027129, 'min_samples_leaf': 10, 'max_leaves': 10}. Best is trial 15 with value: 0.9276315789473685.\n",
      "[I 2025-01-27 22:50:58,154] Trial 40 finished with value: 0.9144736842105263 and parameters: {'max_bins': 256, 'max_interaction_bins': 64, 'interactions': 10, 'learning_rate': 0.07832116917995023, 'min_samples_leaf': 2, 'max_leaves': 3}. Best is trial 15 with value: 0.9276315789473685.\n",
      "[I 2025-01-27 22:51:19,912] Trial 41 finished with value: 0.9276315789473685 and parameters: {'max_bins': 512, 'max_interaction_bins': 128, 'interactions': 10, 'learning_rate': 0.016604588387123007, 'min_samples_leaf': 2, 'max_leaves': 3}. Best is trial 15 with value: 0.9276315789473685.\n",
      "[I 2025-01-27 22:51:39,112] Trial 42 finished with value: 0.9276315789473685 and parameters: {'max_bins': 512, 'max_interaction_bins': 128, 'interactions': 10, 'learning_rate': 0.016841152732692762, 'min_samples_leaf': 2, 'max_leaves': 3}. Best is trial 15 with value: 0.9276315789473685.\n",
      "[I 2025-01-27 22:52:02,465] Trial 43 finished with value: 0.9276315789473685 and parameters: {'max_bins': 512, 'max_interaction_bins': 128, 'interactions': 10, 'learning_rate': 0.012544687582278613, 'min_samples_leaf': 2, 'max_leaves': 3}. Best is trial 15 with value: 0.9276315789473685.\n",
      "[I 2025-01-27 22:52:28,900] Trial 44 finished with value: 0.9144736842105263 and parameters: {'max_bins': 512, 'max_interaction_bins': 128, 'interactions': 10, 'learning_rate': 0.01570602589352358, 'min_samples_leaf': 10, 'max_leaves': 3}. Best is trial 15 with value: 0.9276315789473685.\n",
      "[I 2025-01-27 22:52:29,944] Trial 45 finished with value: 0.9210526315789473 and parameters: {'max_bins': 512, 'max_interaction_bins': 128, 'interactions': 0, 'learning_rate': 0.028126371575965675, 'min_samples_leaf': 2, 'max_leaves': 3}. Best is trial 15 with value: 0.9276315789473685.\n",
      "[I 2025-01-27 22:52:33,260] Trial 46 finished with value: 0.875 and parameters: {'max_bins': 128, 'max_interaction_bins': 64, 'interactions': 50, 'learning_rate': 0.19047977141085187, 'min_samples_leaf': 20, 'max_leaves': 10}. Best is trial 15 with value: 0.9276315789473685.\n",
      "[I 2025-01-27 22:52:52,783] Trial 47 finished with value: 0.9276315789473685 and parameters: {'max_bins': 512, 'max_interaction_bins': 128, 'interactions': 10, 'learning_rate': 0.020074548362005052, 'min_samples_leaf': 2, 'max_leaves': 3}. Best is trial 15 with value: 0.9276315789473685.\n",
      "[I 2025-01-27 22:53:15,201] Trial 48 finished with value: 0.9276315789473685 and parameters: {'max_bins': 256, 'max_interaction_bins': 128, 'interactions': 10, 'learning_rate': 0.01204625418871829, 'min_samples_leaf': 2, 'max_leaves': 3}. Best is trial 15 with value: 0.9276315789473685.\n",
      "[I 2025-01-27 22:53:28,812] Trial 49 finished with value: 0.9276315789473685 and parameters: {'max_bins': 512, 'max_interaction_bins': 128, 'interactions': 10, 'learning_rate': 0.04684397296006895, 'min_samples_leaf': 20, 'max_leaves': 3}. Best is trial 15 with value: 0.9276315789473685.\n"
     ]
    },
    {
     "name": "stdout",
     "output_type": "stream",
     "text": [
      "Best hyperparameters: {'max_bins': 512, 'max_interaction_bins': 128, 'interactions': 10, 'learning_rate': 0.010226651476661184, 'min_samples_leaf': 2, 'max_leaves': 3}\n",
      "Best recall score: 0.9276315789473685\n"
     ]
    }
   ],
   "source": [
    "def objective(trial):\n",
    "    # Przestrzeń wyszukiwania hiperparametrów\n",
    "    max_bins = trial.suggest_categorical(\"max_bins\", [128, 256, 512])\n",
    "    max_interaction_bins = trial.suggest_categorical(\"max_interaction_bins\", [32, 64, 128])\n",
    "    interactions = trial.suggest_categorical(\"interactions\", [0, 10, 50])\n",
    "    learning_rate = trial.suggest_float(\"learning_rate\", 0.01, 1, log=True)\n",
    "    min_samples_leaf = trial.suggest_categorical(\"min_samples_leaf\", [2, 10, 20])\n",
    "    max_leaves = trial.suggest_categorical(\"max_leaves\", [3, 5, 10])\n",
    "\n",
    "    # Model EBM z sugerowanymi hiperparametrami\n",
    "    ebm = ExplainableBoostingClassifier(\n",
    "        max_bins=max_bins,\n",
    "        max_interaction_bins=max_interaction_bins,\n",
    "        interactions=interactions,\n",
    "        learning_rate=learning_rate,\n",
    "        min_samples_leaf=min_samples_leaf,\n",
    "        max_leaves=max_leaves,\n",
    "        random_state=42,\n",
    "        n_jobs=-1\n",
    "    )\n",
    "\n",
    "    # Dopasowanie modelu na zestawie treningowym\n",
    "    ebm.fit(X_train, Y_train)\n",
    "\n",
    "    # Przewidywania na zbiorze walidacyjnym\n",
    "    Y_pred = ebm.predict(X_test)\n",
    "\n",
    "    # Obliczanie wyniku recall\n",
    "    score = recall_score(Y_test, Y_pred, average=\"binary\")\n",
    "    return score\n",
    "\n",
    "# Optuna\n",
    "study = optuna.create_study(direction=\"maximize\")\n",
    "study.optimize(objective, n_trials=50)\n",
    "\n",
    "print(\"Best hyperparameters:\", study.best_params)\n",
    "print(\"Best recall score:\", study.best_value)"
   ]
  },
  {
   "cell_type": "code",
   "execution_count": null,
   "metadata": {},
   "outputs": [],
   "source": [
    "# Fitting the Explainable Boosting Classifier model\n",
    "ebm_model = ExplainableBoostingClassifier(random_state=42,\n",
    "                                        max_bins=512,\n",
    "                                        max_interaction_bins=128, \n",
    "                                        interactions=10, \n",
    "                                        learning_rate=0.010226651476661184, \n",
    "                                        min_samples_leaf=2, \n",
    "                                        max_leaves=3)\n",
    "ebm_model.fit(X_train, Y_train)\n",
    "\n",
    "# Generating predictions and probabilities on the test set\n",
    "Y_pred = ebm_model.predict(X_test)\n",
    "Y_pred_proba = ebm_model.predict_proba(X_test)[:, 1]\n",
    "\n",
    "# Model evaluation\n",
    "print(\"EBM - Classification Report:\")\n",
    "print(classification_report(Y_test, Y_pred))\n",
    "print(f\"EBM - AUC ROC: {roc_auc_score(Y_test, Y_pred_proba):.4f}\")"
   ]
  },
  {
   "cell_type": "code",
   "execution_count": 37,
   "metadata": {},
   "outputs": [
    {
     "data": {
      "text/html": [
       "<!-- http://127.0.0.1:7766/4824848576/ -->\n",
       "<iframe src=\"http://127.0.0.1:7766/4824848576/\" width=100% height=800 frameBorder=\"0\"></iframe>"
      ]
     },
     "metadata": {},
     "output_type": "display_data"
    }
   ],
   "source": [
    "ebm_local = ebm_model.explain_local(X_test[:10], Y_test[:10])\n",
    "show(ebm_local)"
   ]
  }
 ],
 "metadata": {
  "kernelspec": {
   "display_name": "Python (Poetry)",
   "language": "python",
   "name": "alzheimer-env"
  },
  "language_info": {
   "codemirror_mode": {
    "name": "ipython",
    "version": 3
   },
   "file_extension": ".py",
   "mimetype": "text/x-python",
   "name": "python",
   "nbconvert_exporter": "python",
   "pygments_lexer": "ipython3",
   "version": "3.13.1"
  }
 },
 "nbformat": 4,
 "nbformat_minor": 2
}
